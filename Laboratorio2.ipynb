{
 "cells": [
  {
   "attachments": {},
   "cell_type": "markdown",
   "metadata": {},
   "source": [
    "## Ejercicio 1\n",
    " \n",
    "Haga un programa en Python que reciba de par´ametro un nu´mero de segundos y que despliegue en pantalla, las horas, minutos y segundos que representan. Por ejemplo:\n",
    "Si el numero de segundos recibidos fuera: 2743 entonces su programa deber´ıa desplegar:\n",
    "Horas: 0, Minutos: 45 , Segundos: 43\n",
    "Si el nu´mero de segundos recibidos fuera 5871: Horas: 1, Minutos: 37 , Segundos: 51\n",
    "Recuerde manejar excepciones y errores que considere necesarios."
   ]
  },
  {
   "cell_type": "code",
   "execution_count": null,
   "metadata": {},
   "outputs": [],
   "source": [
    "def convert_seconds_to_hms(seconds):\n",
    "    # Calculamos las horas, minutos y segundos\n",
    "    hours = seconds // 3600\n",
    "    seconds %= 3600\n",
    "    minutes = seconds // 60\n",
    "    seconds %= 60\n",
    "    \n",
    "    # Mostramos el resultado en pantalla\n",
    "    print(\"Horas: {}, Minutos: {}, Segundos: {}\".format(hours, minutes, seconds))\n",
    "\n",
    "# Pedimos al usuario que ingrese el número de segundos\n",
    "while True:\n",
    "    try:\n",
    "        seconds = int(input(\"Ingresa el número de segundos: \"))\n",
    "        if seconds < 0:\n",
    "            raise ValueError(\"Debe ingresar un número entero positivo.\")\n",
    "        break\n",
    "    except ValueError:\n",
    "        print(\"Debe ingresar un número entero positivo.\")\n",
    "\n",
    "# Convertimos los segundos a horas, minutos y segundos e imprimimos el resultado\n",
    "convert_seconds_to_hms(seconds)\n"
   ]
  }
 ],
 "metadata": {
  "kernelspec": {
   "display_name": "Testenv3",
   "language": "python",
   "name": "python3"
  },
  "language_info": {
   "codemirror_mode": {
    "name": "ipython",
    "version": 3
   },
   "file_extension": ".py",
   "mimetype": "text/x-python",
   "name": "python",
   "nbconvert_exporter": "python",
   "pygments_lexer": "ipython3",
   "version": "3.9.16"
  },
  "orig_nbformat": 4
 },
 "nbformat": 4,
 "nbformat_minor": 2
}
