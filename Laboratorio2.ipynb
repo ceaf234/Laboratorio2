{
 "cells": [
  {
   "attachments": {},
   "cell_type": "markdown",
   "metadata": {},
   "source": [
    "## Ejercicio 1\n",
    "### Convertir numero entero a horas, minutos y segundos"
   ]
  },
  {
   "cell_type": "code",
   "execution_count": null,
   "metadata": {},
   "outputs": [],
   "source": [
    "def convert_seconds_to_hms(seconds):\n",
    "    # Calculamos las horas, minutos y segundos\n",
    "    hours = seconds // 3600\n",
    "    seconds %= 3600\n",
    "    minutes = seconds // 60\n",
    "    seconds %= 60\n",
    "    \n",
    "    # Mostramos el resultado en pantalla\n",
    "    print(\"Horas: {}, Minutos: {}, Segundos: {}\".format(hours, minutes, seconds))\n",
    "\n",
    "# Pedimos al usuario que ingrese el número de segundos\n",
    "while True:\n",
    "    try:\n",
    "        seconds = int(input(\"Ingresa el número de segundos: \"))\n",
    "        if seconds < 0:\n",
    "            raise ValueError(\"Debe ingresar un número entero positivo.\")\n",
    "        break\n",
    "    except ValueError:\n",
    "        print(\"Debe ingresar un número entero positivo.\")\n",
    "\n",
    "# Convertimos los segundos a horas, minutos y segundos e imprimimos el resultado\n",
    "convert_seconds_to_hms(seconds)\n"
   ]
  },
  {
   "attachments": {},
   "cell_type": "markdown",
   "metadata": {},
   "source": [
    "## Ejercicio 2\n",
    "### Impimir patrones de triagulos con altura dara por el usuario"
   ]
  },
  {
   "cell_type": "code",
   "execution_count": 1,
   "metadata": {},
   "outputs": [
    {
     "name": "stdout",
     "output_type": "stream",
     "text": [
      "8\n",
      "88\n",
      "888\n",
      "\n",
      "  8\n",
      " 88\n",
      "888\n",
      "\n",
      "  8\n",
      " 888\n",
      "88888\n",
      "\n",
      "888888\n",
      "88  88\n",
      "8    8\n"
     ]
    }
   ],
   "source": [
    "def imprimir_patrones(num, caracter):\n",
    "    # Patrón 1\n",
    "    for i in range(num):\n",
    "        print(caracter*(i+1))\n",
    "    \n",
    "    print()  # Imprimir una línea en blanco\n",
    "    \n",
    "    # Patrón 2\n",
    "    for i in range(num):\n",
    "        print(' '*(num-i-1) + caracter*(i+1))\n",
    "    \n",
    "    print()  # Imprimir una línea en blanco\n",
    "    \n",
    "    # Patrón 3\n",
    "    for i in range(num):\n",
    "        print(' '*(num-i-1) + caracter*(2*i+1))\n",
    "    \n",
    "    print()  # Imprimir una línea en blanco\n",
    "    \n",
    "    # Patrón 4\n",
    "    for i in range(num):\n",
    "        print(caracter*(num-i) + ' '*(2*i) + caracter*(num-i))\n",
    "\n",
    "# Solicitar al usuario el número y el carácter\n",
    "num = int(input(\"Ingrese un número entre 1 y 20: \"))\n",
    "caracter = input(\"Ingrese un carácter cualquiera: \")\n",
    "\n",
    "# Llamar a la función para imprimir los patrones\n",
    "imprimir_patrones(num, caracter)\n"
   ]
  },
  {
   "attachments": {},
   "cell_type": "markdown",
   "metadata": {},
   "source": [
    "## Ejercicio 3\n",
    "### Calcular edad en base a la fecha de nacimiento."
   ]
  },
  {
   "cell_type": "code",
   "execution_count": null,
   "metadata": {},
   "outputs": [],
   "source": [
    "from datetime import date\n",
    "\n",
    "# Solicitar fecha de nacimiento\n",
    "print(\"Ingrese su fecha de nacimiento:\")\n",
    "anio = int(input(\"Año: \"))\n",
    "mes = int(input(\"Mes: \"))\n",
    "dia = int(input(\"Día: \"))\n",
    "\n",
    "# Calcular edad\n",
    "hoy = date.today()\n",
    "cumple = date(anio, mes, dia)\n",
    "edad = hoy.year - cumple.year - ((hoy.month, hoy.day) < (cumple.month, cumple.day))\n",
    "\n",
    "# Calcular diferencia de meses y días\n",
    "if hoy.month < cumple.month:\n",
    "    meses = hoy.month + (12 - cumple.month)\n",
    "    edad -= 1\n",
    "else:\n",
    "    meses = hoy.month - cumple.month\n",
    "if hoy.day < cumple.day:\n",
    "    dias = hoy.day + (30 - cumple.day)\n",
    "    meses -= 1\n",
    "else:\n",
    "    dias = hoy.day - cumple.day\n",
    "print(\"Tu edad es de \", edad, \"años,\", meses, \"meses y\", dias, \"días.\")\n"
   ]
  },
  {
   "attachments": {},
   "cell_type": "markdown",
   "metadata": {},
   "source": [
    "## Ejercicio 4\n",
    "### Recibir parametros del usuario, guardalos en una tupla, contatenar y presentar."
   ]
  },
  {
   "cell_type": "code",
   "execution_count": null,
   "metadata": {},
   "outputs": [],
   "source": [
    "# Solicitar parámetros al usuario y guardarlos en una tupla\n",
    "parametros = input(\"Ingresa los parámetros separados por coma: \")\n",
    "tupla = tuple(parametros.split(\",\"))\n",
    "#print(tupla)\n",
    "contatenado = \"\".join(map(str, tupla))\n",
    "#Imprimir Resultado\n",
    "print(contatenado)\n",
    "\n"
   ]
  }
 ],
 "metadata": {
  "kernelspec": {
   "display_name": "Testenv3",
   "language": "python",
   "name": "python3"
  },
  "language_info": {
   "codemirror_mode": {
    "name": "ipython",
    "version": 3
   },
   "file_extension": ".py",
   "mimetype": "text/x-python",
   "name": "python",
   "nbconvert_exporter": "python",
   "pygments_lexer": "ipython3",
   "version": "3.9.16"
  },
  "orig_nbformat": 4
 },
 "nbformat": 4,
 "nbformat_minor": 2
}
