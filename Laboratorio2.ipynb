{
 "cells": [
  {
   "attachments": {},
   "cell_type": "markdown",
   "metadata": {},
   "source": [
    "## Ejercicio 1\n",
    "### Convertir numero entero a horas, minutos y segundos"
   ]
  },
  {
   "cell_type": "code",
   "execution_count": null,
   "metadata": {},
   "outputs": [],
   "source": [
    "def convert_seconds_to_hms(seconds):\n",
    "    # Calculamos las horas, minutos y segundos\n",
    "    hours = seconds // 3600\n",
    "    seconds %= 3600\n",
    "    minutes = seconds // 60\n",
    "    seconds %= 60\n",
    "    \n",
    "    # Mostramos el resultado en pantalla\n",
    "    print(\"Horas: {}, Minutos: {}, Segundos: {}\".format(hours, minutes, seconds))\n",
    "\n",
    "# Pedimos al usuario que ingrese el número de segundos\n",
    "while True:\n",
    "    try:\n",
    "        seconds = int(input(\"Ingresa el número de segundos: \"))\n",
    "        if seconds < 0:\n",
    "            raise ValueError(\"Debe ingresar un número entero positivo.\")\n",
    "        break\n",
    "    except ValueError:\n",
    "        print(\"Debe ingresar un número entero positivo.\")\n",
    "\n",
    "# Convertimos los segundos a horas, minutos y segundos e imprimimos el resultado\n",
    "convert_seconds_to_hms(seconds)\n"
   ]
  },
  {
   "attachments": {},
   "cell_type": "markdown",
   "metadata": {},
   "source": [
    "## Ejercicio 2\n",
    "### Impimir patrones de triagulos con altura dara por el usuario"
   ]
  },
  {
   "cell_type": "code",
   "execution_count": null,
   "metadata": {},
   "outputs": [],
   "source": [
    "def imprimir_patrones(num, caracter):\n",
    "    # Patrón 1\n",
    "    for i in range(num):\n",
    "        print(caracter*(i+1))\n",
    "    \n",
    "    print()  # Imprimir una línea en blanco\n",
    "    \n",
    "    # Patrón 2\n",
    "    for i in range(num):\n",
    "        print(' '*(num-i-1) + caracter*(i+1))\n",
    "    \n",
    "    print()  # Imprimir una línea en blanco\n",
    "    \n",
    "    # Patrón 3\n",
    "    for i in range(num):\n",
    "        print(' '*(num-i-1) + caracter*(2*i+1))\n",
    "    \n",
    "    print()  # Imprimir una línea en blanco\n",
    "    \n",
    "    # Patrón 4\n",
    "    for i in range(num):\n",
    "        print(caracter*(num-i) + ' '*(2*i) + caracter*(num-i))\n",
    "\n",
    "# Solicitar al usuario el número y el carácter\n",
    "num = int(input(\"Ingrese un número entre 1 y 20: \"))\n",
    "caracter = input(\"Ingrese un carácter cualquiera: \")\n",
    "\n",
    "# Llamar a la función para imprimir los patrones\n",
    "imprimir_patrones(num, caracter)\n"
   ]
  },
  {
   "attachments": {},
   "cell_type": "markdown",
   "metadata": {},
   "source": [
    "## Ejercicio 3\n",
    "### Calcular edad en base a la fecha de nacimiento."
   ]
  },
  {
   "cell_type": "code",
   "execution_count": null,
   "metadata": {},
   "outputs": [],
   "source": [
    "from datetime import date\n",
    "\n",
    "# Solicitar fecha de nacimiento\n",
    "print(\"Ingrese su fecha de nacimiento:\")\n",
    "anio = int(input(\"Año: \"))\n",
    "mes = int(input(\"Mes: \"))\n",
    "dia = int(input(\"Día: \"))\n",
    "\n",
    "# Calcular edad\n",
    "hoy = date.today()\n",
    "cumple = date(anio, mes, dia)\n",
    "edad = hoy.year - cumple.year - ((hoy.month, hoy.day) < (cumple.month, cumple.day))\n",
    "\n",
    "# Calcular diferencia de meses y días\n",
    "if hoy.month < cumple.month:\n",
    "    meses = hoy.month + (12 - cumple.month)\n",
    "    edad -= 1\n",
    "else:\n",
    "    meses = hoy.month - cumple.month\n",
    "if hoy.day < cumple.day:\n",
    "    dias = hoy.day + (30 - cumple.day)\n",
    "    meses -= 1\n",
    "else:\n",
    "    dias = hoy.day - cumple.day\n",
    "print(\"Tu edad es de \", edad, \"años,\", meses, \"meses y\", dias, \"días.\")\n"
   ]
  },
  {
   "attachments": {},
   "cell_type": "markdown",
   "metadata": {},
   "source": [
    "## Ejercicio 4\n",
    "### Recibir parametros del usuario, guardalos en una tupla, contatenar y presentar."
   ]
  },
  {
   "cell_type": "code",
   "execution_count": 3,
   "metadata": {},
   "outputs": [
    {
     "name": "stdout",
     "output_type": "stream",
     "text": [
      "\n"
     ]
    }
   ],
   "source": [
    "# Solicitar parámetros al usuario y guardarlos en una tupla\n",
    "parametros = input(\"Ingresa los parámetros separados por coma: \")\n",
    "tupla = tuple(parametros.split(\",\"))\n",
    "#print(tupla)\n",
    "contatenado = \"\".join(map(str, tupla))\n",
    "#Imprimir Resultado\n",
    "print(contatenado)"
   ]
  },
  {
   "attachments": {},
   "cell_type": "markdown",
   "metadata": {},
   "source": [
    "## Ejercicio 5\n",
    "### Recibir parametros del usuario, elminando indices vacios en la tupla\n",
    "\n"
   ]
  },
  {
   "cell_type": "code",
   "execution_count": 13,
   "metadata": {},
   "outputs": [
    {
     "name": "stdout",
     "output_type": "stream",
     "text": [
      "Ingrese los valores para la tupla 1 (separados por comas): \n",
      "Ingrese los valores para la tupla 2 (separados por comas): \n",
      "Ingrese los valores para la tupla 3 (separados por comas): \n",
      "Todas las tuplas ingresadas son: (('t11', 't12', 't13', 't14'), ('t21', 't22', 't23', 't24', 't25'), ('t31', 't32', 't33', 't34'))\n"
     ]
    }
   ],
   "source": [
    "def solicitar_tuplas():\n",
    "    # Solicitar al usuario el número de tuplas\n",
    "    num_tuplas = solicitar_numero_tuplas()\n",
    "\n",
    "    tuplas = []\n",
    "\n",
    "    # Ciclo para solicitar los valores de cada tupla\n",
    "    for i in range(num_tuplas):\n",
    "        print(f\"Ingrese los valores para la tupla {i+1} (separados por comas): \")\n",
    "        valores = tuple(filter(lambda x: x != \"\", input().split(\",\")))\n",
    "        tuplas.append(valores)\n",
    "\n",
    "    # Crear una nueva tupla con todas las tuplas ingresadas\n",
    "    todas_las_tuplas = tuple(tuplas)\n",
    "\n",
    "    # Imprimir la nueva tupla\n",
    "    print(f\"Todas las tuplas ingresadas son: {todas_las_tuplas}\")\n",
    "\n",
    "def solicitar_numero_tuplas():\n",
    "    while True:\n",
    "        numero = int(input(\"Ingrese el número de tuplas (debe ser un número entero entre 1 y 10): \"))\n",
    "        if numero >= 1 and numero <= 10:\n",
    "            return numero\n",
    "        else:\n",
    "            print(\"El número ingresado no está dentro del rango permitido. Inténtalo de nuevo.\")\n",
    "\n",
    "solicitar_tuplas()"
   ]
  }
 ],
 "metadata": {
  "kernelspec": {
   "display_name": "Testenv3",
   "language": "python",
   "name": "python3"
  },
  "language_info": {
   "codemirror_mode": {
    "name": "ipython",
    "version": 3
   },
   "file_extension": ".py",
   "mimetype": "text/x-python",
   "name": "python",
   "nbconvert_exporter": "python",
   "pygments_lexer": "ipython3",
   "version": "3.9.16"
  },
  "orig_nbformat": 4
 },
 "nbformat": 4,
 "nbformat_minor": 2
}
